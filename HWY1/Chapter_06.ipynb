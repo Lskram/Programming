{
 "cells": [
  {
   "cell_type": "markdown",
   "id": "53640b66-7ff4-4070-a650-5d759680eaf9",
   "metadata": {},
   "source": [
    "# แบบฝึกหัดบทที่ 6 นิพจน์ และตัวดำเนินการ"
   ]
  },
  {
   "cell_type": "markdown",
   "id": "a221518e-96e2-4ea4-a581-4879c95b74f9",
   "metadata": {},
   "source": [
    "<img src=\"./images/chap6_1.png\" width=460px>"
   ]
  },
  {
   "cell_type": "markdown",
   "id": "37c266fe-c53b-44da-a397-ef367a154b0b",
   "metadata": {},
   "source": [
    "## 5.1 จงแปลงนิพจน์ทางคณิตศาสตร์ให้เป็นโปรแกรม"
   ]
  },
  {
   "cell_type": "code",
   "execution_count": 7,
   "id": "401e407f-1046-4e6f-ae42-ff8d428fbd10",
   "metadata": {},
   "outputs": [
    {
     "name": "stdout",
     "output_type": "stream",
     "text": [
      "50.26548245743669\n"
     ]
    }
   ],
   "source": [
    "#คำตอบ\n",
    "import math\n",
    "a = 4\n",
    "b = (math.pi)*(a**2)\n",
    "print(b)"
   ]
  },
  {
   "cell_type": "markdown",
   "id": "0917eab1-82d0-4ae6-83b3-bd3d3ae61252",
   "metadata": {},
   "source": [
    "## 5.2 จงแปลงนิพจน์ทางคณิตศาสตร์ให้เป็นโปรแกรม"
   ]
  },
  {
   "cell_type": "code",
   "execution_count": 8,
   "id": "ce1c251f-7384-42e4-a2c9-1f4df0adb91a",
   "metadata": {},
   "outputs": [
    {
     "name": "stdout",
     "output_type": "stream",
     "text": [
      "2.23606797749979\n"
     ]
    }
   ],
   "source": [
    "#คำตอบ\n",
    "import math\n",
    "a = 1\n",
    "b = 2\n",
    "c = math.sqrt((a**2)+(b**2))\n",
    "print(c)"
   ]
  },
  {
   "cell_type": "markdown",
   "id": "19f3f8e5-f05f-4a0b-a58b-59ba4e8c2f51",
   "metadata": {},
   "source": [
    "## 5.3 จงแปลงนิพจน์ทางคณิตศาสตร์ให้เป็นโปรแกรม"
   ]
  },
  {
   "cell_type": "code",
   "execution_count": 15,
   "id": "80f071f2-1b92-4c7b-b312-9b2bfea85501",
   "metadata": {},
   "outputs": [
    {
     "name": "stdout",
     "output_type": "stream",
     "text": [
      "0.25\n"
     ]
    }
   ],
   "source": [
    "#คำตอบ\n",
    "import math\n",
    "a = 2\n",
    "b = 5\n",
    "c = 3\n",
    "x = math.sqrt((b**2)-(4*a*c))/(2*a)\n",
    "print(x)"
   ]
  },
  {
   "cell_type": "markdown",
   "id": "77cd413d-0c91-4374-9954-c2389226a00d",
   "metadata": {},
   "source": [
    "## 5.4 จงแปลงนิพจน์ทางคณิตศาสตร์ให้เป็นโปรแกรม"
   ]
  },
  {
   "cell_type": "code",
   "execution_count": 16,
   "id": "e2bc7708-b26d-4219-91e4-082d3b8284b6",
   "metadata": {},
   "outputs": [
    {
     "name": "stdout",
     "output_type": "stream",
     "text": [
      "12.0\n"
     ]
    }
   ],
   "source": [
    "#คำตอบ\n",
    "import math\n",
    "b = 4\n",
    "c = 8\n",
    "d = 12\n",
    "a = b*2*d/c\n",
    "print(a)\n"
   ]
  },
  {
   "cell_type": "markdown",
   "id": "6d3a803d-23d6-49a7-adaf-8a55618e84c9",
   "metadata": {},
   "source": [
    "## 5.5 จงแปลงนิพจน์ทางคณิตศาสตร์ให้เป็นโปรแกรม"
   ]
  },
  {
   "cell_type": "code",
   "execution_count": 17,
   "id": "2cbe9d06-0578-4416-ae46-0d233e7cabe4",
   "metadata": {},
   "outputs": [
    {
     "name": "stdout",
     "output_type": "stream",
     "text": [
      "175\n"
     ]
    }
   ],
   "source": [
    "# คำตอบ\n",
    "import math\n",
    "b = 5\n",
    "a = (b**2)*(5+2)\n",
    "print(a)\n"
   ]
  }
 ],
 "metadata": {
  "kernelspec": {
   "display_name": "Python 3.9.13 ('base')",
   "language": "python",
   "name": "python3"
  },
  "language_info": {
   "codemirror_mode": {
    "name": "ipython",
    "version": 3
   },
   "file_extension": ".py",
   "mimetype": "text/x-python",
   "name": "python",
   "nbconvert_exporter": "python",
   "pygments_lexer": "ipython3",
   "version": "3.9.13"
  },
  "vscode": {
   "interpreter": {
    "hash": "c4a78effbe9b2122d5d5d58c15d9bb95f7ffda2af6463843201d9a9d30f1cd63"
   }
  }
 },
 "nbformat": 4,
 "nbformat_minor": 5
}
