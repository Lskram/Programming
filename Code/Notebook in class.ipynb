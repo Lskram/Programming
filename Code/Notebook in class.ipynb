{
 "cells": [
  {
   "cell_type": "code",
   "execution_count": null,
   "metadata": {},
   "outputs": [],
   "source": [
    "# สร้าง Count ก่อน\n",
    "P = 0\n",
    "for i in range(100, 1000):\n",
    "        if str(i) == str(i) [::-1]:\n",
    "            print(P)\n",
    "            P += 1      \n",
    "\n",
    "P"
   ]
  },
  {
   "cell_type": "code",
   "execution_count": 21,
   "metadata": {},
   "outputs": [],
   "source": [
    "# tp = (0)\n",
    "tp = (0,)"
   ]
  },
  {
   "cell_type": "code",
   "execution_count": 20,
   "metadata": {},
   "outputs": [
    {
     "data": {
      "text/plain": [
       "tuple"
      ]
     },
     "execution_count": 20,
     "metadata": {},
     "output_type": "execute_result"
    }
   ],
   "source": [
    "type(tp)"
   ]
  },
  {
   "cell_type": "code",
   "execution_count": 23,
   "metadata": {},
   "outputs": [],
   "source": [
    "'''\n",
    "นักศึกษาคนที่ 1 นายพิศาล สุขขี รหัส 123456\n",
    "นักศึกษาคนที่ 2 นายสายฟ้า ธานี รหัส 1564168\n",
    "นักศึกษาคนที่ 3 นายเจษฏา ตอนศรี รหัส 125465\n",
    "'''\n",
    "#structure data\n",
    "my_students = {\n",
    "    '123456' : {\n",
    "            'name': 'นายพิศาล',\n",
    "            'lname': 'สุขขี',\n",
    "        },\n",
    "    '1564168': {\n",
    "            'name': 'สายฟ้า',\n",
    "            'lname': 'ธานี',\n",
    "        },\n",
    "    '125465': {\n",
    "            'name':'เจษฏา',\n",
    "            'lname':'ตอนศรี',\n",
    "        }\n",
    "}\n"
   ]
  },
  {
   "cell_type": "code",
   "execution_count": 27,
   "metadata": {},
   "outputs": [
    {
     "data": {
      "text/plain": [
       "'นายพิศาล'"
      ]
     },
     "execution_count": 27,
     "metadata": {},
     "output_type": "execute_result"
    }
   ],
   "source": [
    "# my_students['123456']['name']\n",
    "my_students.get('123456').get('name')"
   ]
  },
  {
   "cell_type": "code",
   "execution_count": null,
   "metadata": {},
   "outputs": [],
   "source": [
    "&& จริงกรณีเดียวคือ จริง 100๔\n",
    "all จริง เป็นเท็จ 100%\n"
   ]
  }
 ],
 "metadata": {
  "kernelspec": {
   "display_name": "Python 3.9.13 ('base')",
   "language": "python",
   "name": "python3"
  },
  "language_info": {
   "codemirror_mode": {
    "name": "ipython",
    "version": 3
   },
   "file_extension": ".py",
   "mimetype": "text/x-python",
   "name": "python",
   "nbconvert_exporter": "python",
   "pygments_lexer": "ipython3",
   "version": "3.9.13"
  },
  "orig_nbformat": 4,
  "vscode": {
   "interpreter": {
    "hash": "c4a78effbe9b2122d5d5d58c15d9bb95f7ffda2af6463843201d9a9d30f1cd63"
   }
  }
 },
 "nbformat": 4,
 "nbformat_minor": 2
}
