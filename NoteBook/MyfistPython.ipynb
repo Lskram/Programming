{
 "cells": [
  {
   "cell_type": "code",
   "execution_count": null,
   "metadata": {},
   "outputs": [],
   "source": [
    "print(\"Hello world\")"
   ]
  }
 ],
 "metadata": {
  "kernelspec": {
   "display_name": "Python 3.9.13 ('base')",
   "language": "python",
   "name": "python3"
  },
  "language_info": {
   "name": "python",
   "version": "3.9.13"
  },
  "orig_nbformat": 4,
  "vscode": {
   "interpreter": {
    "hash": "aa0c94749c2925f86242ea3d57d558850a320c7b9495d71fb24ffa57e45a2ae6"
   }
  }
 },
 "nbformat": 4,
 "nbformat_minor": 2
}
